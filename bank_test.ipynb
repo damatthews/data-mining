{
 "cells": [
  {
   "cell_type": "markdown",
   "metadata": {},
   "source": [
    "## Week 4: bank_test\n",
    "Name: Deirdre Matthews\n",
    "Student ID: 18236537\n",
    "\n",
    "This Notebook is a practice of for MCQ\n"
   ]
  },
  {
   "cell_type": "markdown",
   "metadata": {},
   "source": [
    "## A. Import Pyton Modules and Dataset"
   ]
  },
  {
   "cell_type": "code",
   "execution_count": 45,
   "metadata": {},
   "outputs": [
    {
     "data": {
      "text/html": [
       "<div>\n",
       "<style scoped>\n",
       "    .dataframe tbody tr th:only-of-type {\n",
       "        vertical-align: middle;\n",
       "    }\n",
       "\n",
       "    .dataframe tbody tr th {\n",
       "        vertical-align: top;\n",
       "    }\n",
       "\n",
       "    .dataframe thead th {\n",
       "        text-align: right;\n",
       "    }\n",
       "</style>\n",
       "<table border=\"1\" class=\"dataframe\">\n",
       "  <thead>\n",
       "    <tr style=\"text-align: right;\">\n",
       "      <th></th>\n",
       "      <th>age</th>\n",
       "      <th>job</th>\n",
       "      <th>education</th>\n",
       "      <th>balance</th>\n",
       "      <th>loan</th>\n",
       "      <th>contact</th>\n",
       "      <th>subscribed</th>\n",
       "    </tr>\n",
       "  </thead>\n",
       "  <tbody>\n",
       "    <tr>\n",
       "      <td>0</td>\n",
       "      <td>32.0</td>\n",
       "      <td>technician</td>\n",
       "      <td>tertiary</td>\n",
       "      <td>392</td>\n",
       "      <td>no</td>\n",
       "      <td>cellular</td>\n",
       "      <td>no</td>\n",
       "    </tr>\n",
       "    <tr>\n",
       "      <td>1</td>\n",
       "      <td>39.0</td>\n",
       "      <td>technician</td>\n",
       "      <td>secondary</td>\n",
       "      <td>688</td>\n",
       "      <td>yes</td>\n",
       "      <td>cellular</td>\n",
       "      <td>no</td>\n",
       "    </tr>\n",
       "    <tr>\n",
       "      <td>2</td>\n",
       "      <td>59.0</td>\n",
       "      <td>retired</td>\n",
       "      <td>secondary</td>\n",
       "      <td>1035</td>\n",
       "      <td>yes</td>\n",
       "      <td>cellular</td>\n",
       "      <td>no</td>\n",
       "    </tr>\n",
       "    <tr>\n",
       "      <td>3</td>\n",
       "      <td>47.0</td>\n",
       "      <td>blue-collar</td>\n",
       "      <td>secondary</td>\n",
       "      <td>398</td>\n",
       "      <td>yes</td>\n",
       "      <td>cellular</td>\n",
       "      <td>no</td>\n",
       "    </tr>\n",
       "    <tr>\n",
       "      <td>4</td>\n",
       "      <td>54.0</td>\n",
       "      <td>retired</td>\n",
       "      <td>secondary</td>\n",
       "      <td>1004</td>\n",
       "      <td>no</td>\n",
       "      <td>cellular</td>\n",
       "      <td>no</td>\n",
       "    </tr>\n",
       "    <tr>\n",
       "      <td>5</td>\n",
       "      <td>46.0</td>\n",
       "      <td>self-employed</td>\n",
       "      <td>tertiary</td>\n",
       "      <td>926</td>\n",
       "      <td>no</td>\n",
       "      <td>cellular</td>\n",
       "      <td>no</td>\n",
       "    </tr>\n",
       "    <tr>\n",
       "      <td>6</td>\n",
       "      <td>34.0</td>\n",
       "      <td>blue-collar</td>\n",
       "      <td>secondary</td>\n",
       "      <td>1924</td>\n",
       "      <td>yes</td>\n",
       "      <td>cellular</td>\n",
       "      <td>no</td>\n",
       "    </tr>\n",
       "    <tr>\n",
       "      <td>7</td>\n",
       "      <td>45.0</td>\n",
       "      <td>services</td>\n",
       "      <td>secondary</td>\n",
       "      <td>396</td>\n",
       "      <td>yes</td>\n",
       "      <td>cellular</td>\n",
       "      <td>no</td>\n",
       "    </tr>\n",
       "    <tr>\n",
       "      <td>8</td>\n",
       "      <td>58.0</td>\n",
       "      <td>management</td>\n",
       "      <td>tertiary</td>\n",
       "      <td>315</td>\n",
       "      <td>no</td>\n",
       "      <td>cellular</td>\n",
       "      <td>no</td>\n",
       "    </tr>\n",
       "    <tr>\n",
       "      <td>9</td>\n",
       "      <td>49.0</td>\n",
       "      <td>management</td>\n",
       "      <td>tertiary</td>\n",
       "      <td>20727</td>\n",
       "      <td>no</td>\n",
       "      <td>cellular</td>\n",
       "      <td>no</td>\n",
       "    </tr>\n",
       "  </tbody>\n",
       "</table>\n",
       "</div>"
      ],
      "text/plain": [
       "    age            job  education  balance loan   contact subscribed\n",
       "0  32.0     technician   tertiary      392   no  cellular         no\n",
       "1  39.0     technician  secondary      688  yes  cellular         no\n",
       "2  59.0        retired  secondary     1035  yes  cellular         no\n",
       "3  47.0    blue-collar  secondary      398  yes  cellular         no\n",
       "4  54.0        retired  secondary     1004   no  cellular         no\n",
       "5  46.0  self-employed   tertiary      926   no  cellular         no\n",
       "6  34.0    blue-collar  secondary     1924  yes  cellular         no\n",
       "7  45.0       services  secondary      396  yes  cellular         no\n",
       "8  58.0     management   tertiary      315   no  cellular         no\n",
       "9  49.0     management   tertiary    20727   no  cellular         no"
      ]
     },
     "execution_count": 45,
     "metadata": {},
     "output_type": "execute_result"
    }
   ],
   "source": [
    "# Import \n",
    "import pandas as pd\n",
    "import numpy as np\n",
    "from sklearn.preprocessing import RobustScaler\n",
    "import matplotlib.pyplot as plt\n",
    "%matplotlib inline\n",
    "#the following are required if running thru' Google Colaboratory\n",
    "#from google.colab import drive\n",
    "#drive.mount('/content/drive')\n",
    "\n",
    "# Import bank.csv into the Pandas Dataframe\n",
    "df = pd.read_csv(\"./bank_test.csv\")\n",
    "#df = pd.read_csv('/content/drive/My Drive/Colab Notebooks/bank.csv') #use this from Google Colaboratory\n",
    "df.head(10)"
   ]
  },
  {
   "cell_type": "markdown",
   "metadata": {},
   "source": [
    "## Q1"
   ]
  },
  {
   "cell_type": "code",
   "execution_count": 46,
   "metadata": {},
   "outputs": [
    {
     "name": "stdout",
     "output_type": "stream",
     "text": [
      "Frequency Table for Job\n",
      "management       461\n",
      "technician       348\n",
      "blue-collar      298\n",
      "admin.           247\n",
      "services         165\n",
      "retired          162\n",
      "student           96\n",
      "unemployed        69\n",
      "self-employed     64\n",
      "entrepreneur      45\n",
      "housemaid         35\n",
      "Name: job, dtype: int64\n",
      "Total records = 1990\n"
     ]
    }
   ],
   "source": [
    "# job frequency table \n",
    "frequency_table = df['job'].value_counts(ascending=False)\n",
    "print('Frequency Table for Job') \n",
    "print(frequency_table)\n",
    "print('Total records = {}'.format(df['job'].count()))"
   ]
  },
  {
   "cell_type": "markdown",
   "metadata": {},
   "source": [
    "Ans: Students = 96"
   ]
  },
  {
   "cell_type": "markdown",
   "metadata": {},
   "source": [
    "# Q2"
   ]
  },
  {
   "cell_type": "code",
   "execution_count": 47,
   "metadata": {},
   "outputs": [
    {
     "data": {
      "text/html": [
       "<div>\n",
       "<style scoped>\n",
       "    .dataframe tbody tr th:only-of-type {\n",
       "        vertical-align: middle;\n",
       "    }\n",
       "\n",
       "    .dataframe tbody tr th {\n",
       "        vertical-align: top;\n",
       "    }\n",
       "\n",
       "    .dataframe thead th {\n",
       "        text-align: right;\n",
       "    }\n",
       "</style>\n",
       "<table border=\"1\" class=\"dataframe\">\n",
       "  <thead>\n",
       "    <tr style=\"text-align: right;\">\n",
       "      <th></th>\n",
       "      <th>age</th>\n",
       "      <th>balance</th>\n",
       "    </tr>\n",
       "  </thead>\n",
       "  <tbody>\n",
       "    <tr>\n",
       "      <td>count</td>\n",
       "      <td>1988.000000</td>\n",
       "      <td>2000.000000</td>\n",
       "    </tr>\n",
       "    <tr>\n",
       "      <td>mean</td>\n",
       "      <td>41.753018</td>\n",
       "      <td>1413.663500</td>\n",
       "    </tr>\n",
       "    <tr>\n",
       "      <td>std</td>\n",
       "      <td>12.724358</td>\n",
       "      <td>3131.224213</td>\n",
       "    </tr>\n",
       "    <tr>\n",
       "      <td>min</td>\n",
       "      <td>18.000000</td>\n",
       "      <td>-980.000000</td>\n",
       "    </tr>\n",
       "    <tr>\n",
       "      <td>25%</td>\n",
       "      <td>32.000000</td>\n",
       "      <td>201.500000</td>\n",
       "    </tr>\n",
       "    <tr>\n",
       "      <td>50%</td>\n",
       "      <td>38.000000</td>\n",
       "      <td>551.000000</td>\n",
       "    </tr>\n",
       "    <tr>\n",
       "      <td>75%</td>\n",
       "      <td>50.000000</td>\n",
       "      <td>1644.500000</td>\n",
       "    </tr>\n",
       "    <tr>\n",
       "      <td>max</td>\n",
       "      <td>93.000000</td>\n",
       "      <td>81204.000000</td>\n",
       "    </tr>\n",
       "  </tbody>\n",
       "</table>\n",
       "</div>"
      ],
      "text/plain": [
       "               age       balance\n",
       "count  1988.000000   2000.000000\n",
       "mean     41.753018   1413.663500\n",
       "std      12.724358   3131.224213\n",
       "min      18.000000   -980.000000\n",
       "25%      32.000000    201.500000\n",
       "50%      38.000000    551.000000\n",
       "75%      50.000000   1644.500000\n",
       "max      93.000000  81204.000000"
      ]
     },
     "execution_count": 47,
     "metadata": {},
     "output_type": "execute_result"
    }
   ],
   "source": [
    "# statistics - numeric data\n",
    "df.describe()"
   ]
  },
  {
   "cell_type": "code",
   "execution_count": 48,
   "metadata": {},
   "outputs": [
    {
     "data": {
      "text/plain": [
       "38.0"
      ]
     },
     "execution_count": 48,
     "metadata": {},
     "output_type": "execute_result"
    }
   ],
   "source": [
    "# display the median age value\n",
    "df['age'].median()"
   ]
  },
  {
   "cell_type": "markdown",
   "metadata": {},
   "source": [
    "Q2. median age = 38.0"
   ]
  },
  {
   "cell_type": "markdown",
   "metadata": {},
   "source": [
    "# Q3 & Q4"
   ]
  },
  {
   "cell_type": "code",
   "execution_count": 49,
   "metadata": {},
   "outputs": [
    {
     "data": {
      "text/plain": [
       "age            12\n",
       "job            10\n",
       "education     104\n",
       "balance         0\n",
       "loan            0\n",
       "contact       191\n",
       "subscribed      0\n",
       "dtype: int64"
      ]
     },
     "execution_count": 49,
     "metadata": {},
     "output_type": "execute_result"
    }
   ],
   "source": [
    "# Check for missing values\n",
    "df.isna().sum()"
   ]
  },
  {
   "cell_type": "markdown",
   "metadata": {},
   "source": [
    "Q3. Missing values job = 10"
   ]
  },
  {
   "cell_type": "markdown",
   "metadata": {},
   "source": [
    "Q4. Missing values balance = 0"
   ]
  },
  {
   "cell_type": "markdown",
   "metadata": {},
   "source": [
    "# Q5"
   ]
  },
  {
   "cell_type": "code",
   "execution_count": null,
   "metadata": {},
   "outputs": [],
   "source": [
    "# Check for Outliers\n",
    "# histogram for balance \n",
    "df['balance'].hist(bins=50)\n",
    "plt.title('HISTOGRAM - BALANCE')\n",
    "plt.xlabel('Balance')\n",
    "plt.ylabel('Number of Contacts')\n",
    "plt.show()"
   ]
  },
  {
   "cell_type": "code",
   "execution_count": 67,
   "metadata": {},
   "outputs": [
    {
     "data": {
      "image/png": "[encoded data removed]",
      "text/plain": [
       "<Figure size 720x360 with 1 Axes>"
      ]
     },
     "metadata": {
      "needs_background": "light"
     },
     "output_type": "display_data"
    }
   ],
   "source": [
    "# Plot histogram\n",
    "\n",
    "plt.figure(figsize=(10,5))\n",
    "df.balance.plot(kind='hist',histtype='step',bins=50)\n",
    "plt.axvline(df.balance.mean(),c='red',label = 'Mean')\n",
    "plt.axvline(df.balance.median(),c='green',linestyle='--',label = 'Median')\n",
    "plt.axvline(df.balance.quantile(0.25),c='blue',linestyle=':',label = '0.25 quantile')\n",
    "plt.axvline(df.balance.quantile(0.75),c='blue',linestyle=':',label = '0.75 quantile')\n",
    "plt.axis(xmin=-1000,xmax=5000)\n",
    "plt.title('Balance',fontweight=\"bold\",fontsize = 20)\n",
    "plt.xlabel('balance',fontweight=\"bold\",fontsize = 15)\n",
    "plt.ylabel('Frequency',fontweight=\"bold\",fontsize = 15)\n",
    "plt.xticks(fontweight=\"bold\",fontsize = 10)\n",
    "plt.yticks(fontweight=\"bold\",fontsize = 10)\n",
    "plt.legend(loc=1, prop={'size': 15})\n",
    "plt.show()"
   ]
  },
  {
   "cell_type": "code",
   "execution_count": 51,
   "metadata": {},
   "outputs": [
    {
     "data": {
      "text/plain": [
       "81204"
      ]
     },
     "execution_count": 51,
     "metadata": {},
     "output_type": "execute_result"
    }
   ],
   "source": [
    "# outlier max\n",
    "df['balance'].max()\n"
   ]
  },
  {
   "cell_type": "code",
   "execution_count": 52,
   "metadata": {},
   "outputs": [
    {
     "data": {
      "text/plain": [
       "-980"
      ]
     },
     "execution_count": 52,
     "metadata": {},
     "output_type": "execute_result"
    }
   ],
   "source": [
    "# outlier mmin\n",
    "df['balance'].min()"
   ]
  },
  {
   "cell_type": "markdown",
   "metadata": {},
   "source": [
    "Q5. 81,204"
   ]
  },
  {
   "cell_type": "markdown",
   "metadata": {},
   "source": [
    "# Q6"
   ]
  },
  {
   "cell_type": "code",
   "execution_count": 53,
   "metadata": {},
   "outputs": [
    {
     "data": {
      "text/html": [
       "<div>\n",
       "<style scoped>\n",
       "    .dataframe tbody tr th:only-of-type {\n",
       "        vertical-align: middle;\n",
       "    }\n",
       "\n",
       "    .dataframe tbody tr th {\n",
       "        vertical-align: top;\n",
       "    }\n",
       "\n",
       "    .dataframe thead th {\n",
       "        text-align: right;\n",
       "    }\n",
       "</style>\n",
       "<table border=\"1\" class=\"dataframe\">\n",
       "  <thead>\n",
       "    <tr style=\"text-align: right;\">\n",
       "      <th></th>\n",
       "      <th>age</th>\n",
       "      <th>job</th>\n",
       "      <th>education</th>\n",
       "      <th>balance</th>\n",
       "      <th>loan</th>\n",
       "      <th>contact</th>\n",
       "      <th>subscribed</th>\n",
       "    </tr>\n",
       "  </thead>\n",
       "  <tbody>\n",
       "    <tr>\n",
       "      <td>1370</td>\n",
       "      <td>93.0</td>\n",
       "      <td>retired</td>\n",
       "      <td>NaN</td>\n",
       "      <td>775</td>\n",
       "      <td>no</td>\n",
       "      <td>cellular</td>\n",
       "      <td>yes</td>\n",
       "    </tr>\n",
       "    <tr>\n",
       "      <td>1182</td>\n",
       "      <td>93.0</td>\n",
       "      <td>retired</td>\n",
       "      <td>NaN</td>\n",
       "      <td>775</td>\n",
       "      <td>no</td>\n",
       "      <td>cellular</td>\n",
       "      <td>yes</td>\n",
       "    </tr>\n",
       "    <tr>\n",
       "      <td>1074</td>\n",
       "      <td>86.0</td>\n",
       "      <td>retired</td>\n",
       "      <td>primary</td>\n",
       "      <td>5236</td>\n",
       "      <td>no</td>\n",
       "      <td>telephone</td>\n",
       "      <td>yes</td>\n",
       "    </tr>\n",
       "    <tr>\n",
       "      <td>1352</td>\n",
       "      <td>86.0</td>\n",
       "      <td>retired</td>\n",
       "      <td>primary</td>\n",
       "      <td>1255</td>\n",
       "      <td>no</td>\n",
       "      <td>telephone</td>\n",
       "      <td>yes</td>\n",
       "    </tr>\n",
       "    <tr>\n",
       "      <td>1721</td>\n",
       "      <td>84.0</td>\n",
       "      <td>retired</td>\n",
       "      <td>primary</td>\n",
       "      <td>639</td>\n",
       "      <td>no</td>\n",
       "      <td>telephone</td>\n",
       "      <td>yes</td>\n",
       "    </tr>\n",
       "    <tr>\n",
       "      <td>...</td>\n",
       "      <td>...</td>\n",
       "      <td>...</td>\n",
       "      <td>...</td>\n",
       "      <td>...</td>\n",
       "      <td>...</td>\n",
       "      <td>...</td>\n",
       "      <td>...</td>\n",
       "    </tr>\n",
       "    <tr>\n",
       "      <td>744</td>\n",
       "      <td>NaN</td>\n",
       "      <td>management</td>\n",
       "      <td>tertiary</td>\n",
       "      <td>-61</td>\n",
       "      <td>no</td>\n",
       "      <td>cellular</td>\n",
       "      <td>no</td>\n",
       "    </tr>\n",
       "    <tr>\n",
       "      <td>795</td>\n",
       "      <td>NaN</td>\n",
       "      <td>technician</td>\n",
       "      <td>tertiary</td>\n",
       "      <td>992</td>\n",
       "      <td>no</td>\n",
       "      <td>cellular</td>\n",
       "      <td>no</td>\n",
       "    </tr>\n",
       "    <tr>\n",
       "      <td>1171</td>\n",
       "      <td>NaN</td>\n",
       "      <td>retired</td>\n",
       "      <td>tertiary</td>\n",
       "      <td>2812</td>\n",
       "      <td>no</td>\n",
       "      <td>cellular</td>\n",
       "      <td>yes</td>\n",
       "    </tr>\n",
       "    <tr>\n",
       "      <td>1232</td>\n",
       "      <td>NaN</td>\n",
       "      <td>student</td>\n",
       "      <td>secondary</td>\n",
       "      <td>431</td>\n",
       "      <td>no</td>\n",
       "      <td>cellular</td>\n",
       "      <td>yes</td>\n",
       "    </tr>\n",
       "    <tr>\n",
       "      <td>1408</td>\n",
       "      <td>NaN</td>\n",
       "      <td>self-employed</td>\n",
       "      <td>tertiary</td>\n",
       "      <td>251</td>\n",
       "      <td>no</td>\n",
       "      <td>cellular</td>\n",
       "      <td>yes</td>\n",
       "    </tr>\n",
       "  </tbody>\n",
       "</table>\n",
       "<p>1750 rows × 7 columns</p>\n",
       "</div>"
      ],
      "text/plain": [
       "       age            job  education  balance loan    contact subscribed\n",
       "1370  93.0        retired        NaN      775   no   cellular        yes\n",
       "1182  93.0        retired        NaN      775   no   cellular        yes\n",
       "1074  86.0        retired    primary     5236   no  telephone        yes\n",
       "1352  86.0        retired    primary     1255   no  telephone        yes\n",
       "1721  84.0        retired    primary      639   no  telephone        yes\n",
       "...    ...            ...        ...      ...  ...        ...        ...\n",
       "744    NaN     management   tertiary      -61   no   cellular         no\n",
       "795    NaN     technician   tertiary      992   no   cellular         no\n",
       "1171   NaN        retired   tertiary     2812   no   cellular        yes\n",
       "1232   NaN        student  secondary      431   no   cellular        yes\n",
       "1408   NaN  self-employed   tertiary      251   no   cellular        yes\n",
       "\n",
       "[1750 rows x 7 columns]"
      ]
     },
     "execution_count": 53,
     "metadata": {},
     "output_type": "execute_result"
    }
   ],
   "source": [
    "# create df where customer has no loan\n",
    "\n",
    "noloandf = df[(df['loan']  == 'no')]\n",
    "noloandf.sort_values (by='age', ascending=False)"
   ]
  },
  {
   "cell_type": "code",
   "execution_count": 54,
   "metadata": {},
   "outputs": [
    {
     "data": {
      "image/png": "[encoded data removed]",
      "text/plain": [
       "<Figure size 432x288 with 1 Axes>"
      ]
     },
     "metadata": {
      "needs_background": "light"
     },
     "output_type": "display_data"
    }
   ],
   "source": [
    "#loan and age\n",
    "crosstab_MS = pd.crosstab(noloandf['age'], noloandf['loan'])\n",
    "crosstab_MS.plot(kind='bar', stacked=True, color=['blue', 'orange'], title = 'AGE AND LOAN')\n",
    "plt.ylabel('No. of contacts')\n",
    "plt.show()"
   ]
  },
  {
   "cell_type": "code",
   "execution_count": 55,
   "metadata": {},
   "outputs": [
    {
     "data": {
      "image/png": "[encoded data removed]",
      "text/plain": [
       "<Figure size 432x288 with 1 Axes>"
      ]
     },
     "metadata": {
      "needs_background": "light"
     },
     "output_type": "display_data"
    }
   ],
   "source": [
    "boxplot = noloandf.boxplot(column=['age'])\n",
    "plt.show()"
   ]
  },
  {
   "cell_type": "markdown",
   "metadata": {},
   "source": [
    "Q6 Among customers who do not have a loan, any age above 78 is an outlier"
   ]
  },
  {
   "cell_type": "markdown",
   "metadata": {},
   "source": [
    "# Q7"
   ]
  },
  {
   "cell_type": "code",
   "execution_count": 56,
   "metadata": {},
   "outputs": [
    {
     "data": {
      "image/png": "[encoded data removed]",
      "text/plain": [
       "<Figure size 432x288 with 2 Axes>"
      ]
     },
     "metadata": {
      "needs_background": "light"
     },
     "output_type": "display_data"
    }
   ],
   "source": [
    "# Check for Outliers\n",
    "# histogram for age \n",
    "noloandf.hist(bins=20)\n",
    "plt.title('HISTOGRAM - AGE')\n",
    "plt.xlabel('Age')\n",
    "plt.ylabel('Number of Contacts')\n",
    "plt.show()"
   ]
  },
  {
   "cell_type": "code",
   "execution_count": 57,
   "metadata": {},
   "outputs": [
    {
     "data": {
      "text/html": [
       "<div>\n",
       "<style scoped>\n",
       "    .dataframe tbody tr th:only-of-type {\n",
       "        vertical-align: middle;\n",
       "    }\n",
       "\n",
       "    .dataframe tbody tr th {\n",
       "        vertical-align: top;\n",
       "    }\n",
       "\n",
       "    .dataframe thead th {\n",
       "        text-align: right;\n",
       "    }\n",
       "</style>\n",
       "<table border=\"1\" class=\"dataframe\">\n",
       "  <thead>\n",
       "    <tr style=\"text-align: right;\">\n",
       "      <th></th>\n",
       "      <th>age</th>\n",
       "      <th>job</th>\n",
       "      <th>education</th>\n",
       "      <th>balance</th>\n",
       "      <th>loan</th>\n",
       "      <th>contact</th>\n",
       "      <th>subscribed</th>\n",
       "    </tr>\n",
       "  </thead>\n",
       "  <tbody>\n",
       "    <tr>\n",
       "      <td>1033</td>\n",
       "      <td>84.0</td>\n",
       "      <td>retired</td>\n",
       "      <td>secondary</td>\n",
       "      <td>81204</td>\n",
       "      <td>no</td>\n",
       "      <td>telephone</td>\n",
       "      <td>yes</td>\n",
       "    </tr>\n",
       "    <tr>\n",
       "      <td>1422</td>\n",
       "      <td>45.0</td>\n",
       "      <td>management</td>\n",
       "      <td>tertiary</td>\n",
       "      <td>31472</td>\n",
       "      <td>no</td>\n",
       "      <td>cellular</td>\n",
       "      <td>yes</td>\n",
       "    </tr>\n",
       "    <tr>\n",
       "      <td>1551</td>\n",
       "      <td>77.0</td>\n",
       "      <td>retired</td>\n",
       "      <td>primary</td>\n",
       "      <td>29340</td>\n",
       "      <td>no</td>\n",
       "      <td>cellular</td>\n",
       "      <td>yes</td>\n",
       "    </tr>\n",
       "    <tr>\n",
       "      <td>1471</td>\n",
       "      <td>74.0</td>\n",
       "      <td>retired</td>\n",
       "      <td>primary</td>\n",
       "      <td>29080</td>\n",
       "      <td>no</td>\n",
       "      <td>cellular</td>\n",
       "      <td>yes</td>\n",
       "    </tr>\n",
       "    <tr>\n",
       "      <td>1657</td>\n",
       "      <td>42.0</td>\n",
       "      <td>management</td>\n",
       "      <td>tertiary</td>\n",
       "      <td>27696</td>\n",
       "      <td>no</td>\n",
       "      <td>cellular</td>\n",
       "      <td>yes</td>\n",
       "    </tr>\n",
       "    <tr>\n",
       "      <td>...</td>\n",
       "      <td>...</td>\n",
       "      <td>...</td>\n",
       "      <td>...</td>\n",
       "      <td>...</td>\n",
       "      <td>...</td>\n",
       "      <td>...</td>\n",
       "      <td>...</td>\n",
       "    </tr>\n",
       "    <tr>\n",
       "      <td>1472</td>\n",
       "      <td>28.0</td>\n",
       "      <td>blue-collar</td>\n",
       "      <td>secondary</td>\n",
       "      <td>-46</td>\n",
       "      <td>no</td>\n",
       "      <td>cellular</td>\n",
       "      <td>yes</td>\n",
       "    </tr>\n",
       "    <tr>\n",
       "      <td>1905</td>\n",
       "      <td>28.0</td>\n",
       "      <td>blue-collar</td>\n",
       "      <td>secondary</td>\n",
       "      <td>-46</td>\n",
       "      <td>no</td>\n",
       "      <td>cellular</td>\n",
       "      <td>yes</td>\n",
       "    </tr>\n",
       "    <tr>\n",
       "      <td>1007</td>\n",
       "      <td>27.0</td>\n",
       "      <td>technician</td>\n",
       "      <td>tertiary</td>\n",
       "      <td>-67</td>\n",
       "      <td>no</td>\n",
       "      <td>cellular</td>\n",
       "      <td>yes</td>\n",
       "    </tr>\n",
       "    <tr>\n",
       "      <td>1024</td>\n",
       "      <td>36.0</td>\n",
       "      <td>management</td>\n",
       "      <td>tertiary</td>\n",
       "      <td>-115</td>\n",
       "      <td>no</td>\n",
       "      <td>cellular</td>\n",
       "      <td>yes</td>\n",
       "    </tr>\n",
       "    <tr>\n",
       "      <td>1867</td>\n",
       "      <td>31.0</td>\n",
       "      <td>services</td>\n",
       "      <td>secondary</td>\n",
       "      <td>-205</td>\n",
       "      <td>no</td>\n",
       "      <td>cellular</td>\n",
       "      <td>yes</td>\n",
       "    </tr>\n",
       "  </tbody>\n",
       "</table>\n",
       "<p>1000 rows × 7 columns</p>\n",
       "</div>"
      ],
      "text/plain": [
       "       age          job  education  balance loan    contact subscribed\n",
       "1033  84.0      retired  secondary    81204   no  telephone        yes\n",
       "1422  45.0   management   tertiary    31472   no   cellular        yes\n",
       "1551  77.0      retired    primary    29340   no   cellular        yes\n",
       "1471  74.0      retired    primary    29080   no   cellular        yes\n",
       "1657  42.0   management   tertiary    27696   no   cellular        yes\n",
       "...    ...          ...        ...      ...  ...        ...        ...\n",
       "1472  28.0  blue-collar  secondary      -46   no   cellular        yes\n",
       "1905  28.0  blue-collar  secondary      -46   no   cellular        yes\n",
       "1007  27.0   technician   tertiary      -67   no   cellular        yes\n",
       "1024  36.0   management   tertiary     -115   no   cellular        yes\n",
       "1867  31.0     services  secondary     -205   no   cellular        yes\n",
       "\n",
       "[1000 rows x 7 columns]"
      ]
     },
     "execution_count": 57,
     "metadata": {},
     "output_type": "execute_result"
    }
   ],
   "source": [
    "#selects data by and sorts descending\n",
    "subscribeddf = df[(df['subscribed']  == 'yes')]\n",
    "subscribeddf.sort_values (by='balance', ascending=False)"
   ]
  },
  {
   "cell_type": "markdown",
   "metadata": {},
   "source": [
    "Q7. No subscribed customer has a balance above 81,204"
   ]
  },
  {
   "cell_type": "markdown",
   "metadata": {},
   "source": [
    "# Q8"
   ]
  },
  {
   "cell_type": "code",
   "execution_count": 58,
   "metadata": {},
   "outputs": [
    {
     "data": {
      "text/html": [
       "<div>\n",
       "<style scoped>\n",
       "    .dataframe tbody tr th:only-of-type {\n",
       "        vertical-align: middle;\n",
       "    }\n",
       "\n",
       "    .dataframe tbody tr th {\n",
       "        vertical-align: top;\n",
       "    }\n",
       "\n",
       "    .dataframe thead th {\n",
       "        text-align: right;\n",
       "    }\n",
       "</style>\n",
       "<table border=\"1\" class=\"dataframe\">\n",
       "  <thead>\n",
       "    <tr style=\"text-align: right;\">\n",
       "      <th>subscribed</th>\n",
       "      <th>no</th>\n",
       "      <th>yes</th>\n",
       "    </tr>\n",
       "    <tr>\n",
       "      <th>education</th>\n",
       "      <th></th>\n",
       "      <th></th>\n",
       "    </tr>\n",
       "  </thead>\n",
       "  <tbody>\n",
       "    <tr>\n",
       "      <td>primary</td>\n",
       "      <td>0.612903</td>\n",
       "      <td>0.387097</td>\n",
       "    </tr>\n",
       "    <tr>\n",
       "      <td>secondary</td>\n",
       "      <td>0.546734</td>\n",
       "      <td>0.453266</td>\n",
       "    </tr>\n",
       "    <tr>\n",
       "      <td>tertiary</td>\n",
       "      <td>0.421053</td>\n",
       "      <td>0.578947</td>\n",
       "    </tr>\n",
       "    <tr>\n",
       "      <td>All</td>\n",
       "      <td>0.508966</td>\n",
       "      <td>0.491034</td>\n",
       "    </tr>\n",
       "  </tbody>\n",
       "</table>\n",
       "</div>"
      ],
      "text/plain": [
       "subscribed        no       yes\n",
       "education                     \n",
       "primary     0.612903  0.387097\n",
       "secondary   0.546734  0.453266\n",
       "tertiary    0.421053  0.578947\n",
       "All         0.508966  0.491034"
      ]
     },
     "execution_count": 58,
     "metadata": {},
     "output_type": "execute_result"
    }
   ],
   "source": [
    "pd.crosstab(df.education, df.subscribed, margins=True, normalize='index')"
   ]
  },
  {
   "cell_type": "markdown",
   "metadata": {},
   "source": [
    "Q8. Greater than 50% of tertiary educated are subscribed"
   ]
  },
  {
   "cell_type": "markdown",
   "metadata": {},
   "source": [
    "# Feature Transformations\n",
    "# Q9 - Q10"
   ]
  },
  {
   "cell_type": "code",
   "execution_count": 59,
   "metadata": {},
   "outputs": [
    {
     "data": {
      "image/png": "[encoded data removed]",
      "text/plain": [
       "<Figure size 432x288 with 1 Axes>"
      ]
     },
     "metadata": {
      "needs_background": "light"
     },
     "output_type": "display_data"
    }
   ],
   "source": [
    "# original histogran \n",
    "# histogram for balance \n",
    "df['age'].hist(bins=20)\n",
    "plt.title('HISTOGRAM - AGE')\n",
    "plt.xlabel('Age')\n",
    "plt.ylabel('Number of Contacts')\n",
    "plt.show()\n",
    "\n"
   ]
  },
  {
   "cell_type": "code",
   "execution_count": 60,
   "metadata": {},
   "outputs": [
    {
     "data": {
      "image/png": "[encoded data removed]",
      "text/plain": [
       "<Figure size 432x288 with 1 Axes>"
      ]
     },
     "metadata": {
      "needs_background": "light"
     },
     "output_type": "display_data"
    }
   ],
   "source": [
    "# cube root transformation\n",
    "\n",
    "np.cbrt(df['age']).hist(bins=20)\n",
    "plt.show()"
   ]
  },
  {
   "cell_type": "code",
   "execution_count": 61,
   "metadata": {},
   "outputs": [
    {
     "data": {
      "image/png": "[encoded data removed]",
      "text/plain": [
       "<Figure size 432x288 with 1 Axes>"
      ]
     },
     "metadata": {
      "needs_background": "light"
     },
     "output_type": "display_data"
    }
   ],
   "source": [
    "# square root transformation\n",
    "\n",
    "np.sqrt(df['age']).hist(bins=20)\n",
    "plt.show()"
   ]
  },
  {
   "cell_type": "code",
   "execution_count": 62,
   "metadata": {},
   "outputs": [
    {
     "data": {
      "image/png": "[encoded data removed]",
      "text/plain": [
       "<Figure size 432x288 with 1 Axes>"
      ]
     },
     "metadata": {
      "needs_background": "light"
     },
     "output_type": "display_data"
    }
   ],
   "source": [
    "# log base 10 transformation\n",
    "np.log10(df['age']).hist(bins=20)\n",
    "plt.show()"
   ]
  },
  {
   "cell_type": "code",
   "execution_count": 63,
   "metadata": {},
   "outputs": [
    {
     "data": {
      "image/png": "[encoded data removed]",
      "text/plain": [
       "<Figure size 432x288 with 1 Axes>"
      ]
     },
     "metadata": {
      "needs_background": "light"
     },
     "output_type": "display_data"
    }
   ],
   "source": [
    "# Reciprocal transformation\n",
    "np.reciprocal(df['age']).hist(bins=20)\n",
    "plt.show()"
   ]
  },
  {
   "cell_type": "markdown",
   "metadata": {},
   "source": [
    "# Clustering"
   ]
  },
  {
   "cell_type": "markdown",
   "metadata": {},
   "source": [
    "## Q11\n",
    "The k-means clustering algorithm with k=3 discovers\n",
    "\n",
    "Clusters data by trying to separate samples in 3 groups of equal variance, minimizing a criterion known as the inertia or within-cluster sum-of-square"
   ]
  },
  {
   "cell_type": "markdown",
   "metadata": {},
   "source": [
    "## Q12\n",
    "The optimal number of clusters found by k-means clustering algorithm can be determined with the \n",
    "\n",
    "* Direct methods: consists of optimizing a criterion, such as the within cluster sums of squares or the average silhouette. The corresponding methods are named elbow and silhouette methods, respectively.\n",
    "\n",
    "* Statistical testing methods: consists of comparing evidence against null hypothesis. An example is the gap statistic.\n"
   ]
  },
  {
   "cell_type": "markdown",
   "metadata": {},
   "source": [
    "## Q13\n",
    "\n",
    "_____________ involves calculating the mean distance between a data point and all other points in the same cluster"
   ]
  },
  {
   "cell_type": "markdown",
   "metadata": {},
   "source": [
    "## Q14\n",
    "\n",
    "_______________ is an approach to non-linear dimensionality reduction.\n",
    "\n",
    "Ans: Manifold learning "
   ]
  },
  {
   "cell_type": "markdown",
   "metadata": {},
   "source": [
    "## Q15\n",
    "\n",
    "Manifold learning methods benefit from  _______________ being used for all features because they are based ib a nearest -neighbour search and my perform poorly otherwise.\n",
    "\n",
    "Ans: rescaling"
   ]
  },
  {
   "cell_type": "code",
   "execution_count": null,
   "metadata": {},
   "outputs": [],
   "source": []
  }
 ],
 "metadata": {
  "kernelspec": {
   "display_name": "Python 3",
   "language": "python",
   "name": "python3"
  },
  "language_info": {
   "codemirror_mode": {
    "name": "ipython",
    "version": 3
   },
   "file_extension": ".py",
   "mimetype": "text/x-python",
   "name": "python",
   "nbconvert_exporter": "python",
   "pygments_lexer": "ipython3",
   "version": "3.7.4"
  }
 },
 "nbformat": 4,
 "nbformat_minor": 2
}
